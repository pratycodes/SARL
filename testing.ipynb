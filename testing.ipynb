{
 "cells": [
  {
   "cell_type": "code",
   "execution_count": 1,
   "id": "08e01df1",
   "metadata": {},
   "outputs": [],
   "source": [
    "import ray"
   ]
  },
  {
   "cell_type": "code",
   "execution_count": 6,
   "id": "39d93782",
   "metadata": {},
   "outputs": [
    {
     "name": "stdout",
     "output_type": "stream",
     "text": [
      "<module 'ray.rllib.algorithms.ppo.ppo' from '/opt/anaconda3/envs/SARL/lib/python3.10/site-packages/ray/rllib/algorithms/ppo/ppo.py'>\n"
     ]
    }
   ],
   "source": [
    "from ray.rllib.algorithms.ppo import ppo\n",
    "print(ppo)"
   ]
  }
 ],
 "metadata": {
  "kernelspec": {
   "display_name": "SARL",
   "language": "python",
   "name": "python3"
  },
  "language_info": {
   "codemirror_mode": {
    "name": "ipython",
    "version": 3
   },
   "file_extension": ".py",
   "mimetype": "text/x-python",
   "name": "python",
   "nbconvert_exporter": "python",
   "pygments_lexer": "ipython3",
   "version": "3.10.18"
  }
 },
 "nbformat": 4,
 "nbformat_minor": 5
}
